{
 "cells": [
  {
   "cell_type": "markdown",
   "id": "d1c71d8e",
   "metadata": {},
   "source": [
    "# EUCLIDEAN DISTANCE"
   ]
  },
  {
   "cell_type": "code",
   "execution_count": 1,
   "id": "4adf535d",
   "metadata": {},
   "outputs": [
    {
     "data": {
      "text/plain": [
       "2.8284271247461903"
      ]
     },
     "execution_count": 1,
     "metadata": {},
     "output_type": "execute_result"
    }
   ],
   "source": [
    "import numpy as np\n",
    "p = np.array([1,1])\n",
    "q = np.array([-1,-1])\n",
    "def d(a,b):\n",
    "    answer = np.sqrt(((a[0]-b[0])**2)+((a[1]-b[1])**2))\n",
    "    return answer\n",
    "d(q,p)"
   ]
  },
  {
   "cell_type": "markdown",
   "id": "19db8275",
   "metadata": {},
   "source": [
    "# Dot Product"
   ]
  },
  {
   "cell_type": "code",
   "execution_count": 2,
   "id": "a539e5aa",
   "metadata": {},
   "outputs": [
    {
     "name": "stdout",
     "output_type": "stream",
     "text": [
      "112\n"
     ]
    }
   ],
   "source": [
    "h = np.array([5,12])\n",
    "i = np.array([8,6])\n",
    "print(h.dot(i))"
   ]
  },
  {
   "cell_type": "markdown",
   "id": "509b8df0",
   "metadata": {},
   "source": [
    "# SYSTEM OF LINEAR EQUATION"
   ]
  },
  {
   "cell_type": "code",
   "execution_count": 4,
   "id": "5907ee19",
   "metadata": {},
   "outputs": [
    {
     "name": "stdout",
     "output_type": "stream",
     "text": [
      "[2.4 1.  0.8]\n"
     ]
    }
   ],
   "source": [
    "A = np.array([[2, 1, -1],\n",
    "              [3, 2, 1],\n",
    "              [1, -1, 2]])\n",
    "B = np.array([5, 10, 3])\n",
    "X = np.linalg.inv(A).dot(B)\n",
    "print(X)"
   ]
  },
  {
   "cell_type": "code",
   "execution_count": null,
   "id": "aa8e35f5",
   "metadata": {},
   "outputs": [],
   "source": []
  }
 ],
 "metadata": {
  "kernelspec": {
   "display_name": "Python 3 (ipykernel)",
   "language": "python",
   "name": "python3"
  },
  "language_info": {
   "codemirror_mode": {
    "name": "ipython",
    "version": 3
   },
   "file_extension": ".py",
   "mimetype": "text/x-python",
   "name": "python",
   "nbconvert_exporter": "python",
   "pygments_lexer": "ipython3",
   "version": "3.11.7"
  }
 },
 "nbformat": 4,
 "nbformat_minor": 5
}
